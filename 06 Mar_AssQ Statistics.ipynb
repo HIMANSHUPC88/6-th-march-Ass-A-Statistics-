{
 "cells": [
  {
   "cell_type": "markdown",
   "id": "7ff5b052-1305-4522-a221-53427e71cb11",
   "metadata": {},
   "source": [
    "# Q1. What is Statistics?"
   ]
  },
  {
   "cell_type": "raw",
   "id": "adfef6b7-ef1c-4040-9e59-98dd9302cbf1",
   "metadata": {},
   "source": [
    "Answer 1 -   Statistics is the science of Collecting , Organizing and Analyzing of Data."
   ]
  },
  {
   "cell_type": "markdown",
   "id": "c9f72aa1-33e5-41d9-8795-f42c3fb2f6c6",
   "metadata": {
    "tags": []
   },
   "source": [
    "# Q2. Define the different types of statistics and give an example of when each type might be used."
   ]
  },
  {
   "cell_type": "raw",
   "id": "02694971-a31f-469d-abf0-5e8d8ce1c4fb",
   "metadata": {},
   "source": [
    "Answer2- There are two types of statistics - Infreantial statistics and Discriptive statistics.\n",
    "example of Discriptive statistics is - mean median mode , std.\n",
    "example of Infrential statistics is - Hypothisis testing , Significance value."
   ]
  },
  {
   "cell_type": "markdown",
   "id": "5fb52072-7163-4ed4-b924-ff9d82aa70ef",
   "metadata": {},
   "source": [
    "# Q3.  What are the different types of data and how do they differ from each other? Provide an example of each type of data.\n"
   ]
  },
  {
   "cell_type": "raw",
   "id": "617ece4e-483a-4128-bc7f-080402dddf19",
   "metadata": {},
   "source": [
    "There are two types of data - Qualitative Data and the other type is Quantative Data.\n",
    "Difference - Quantitative Data have numerical values for example the Height of sutdents (125 ,130,140,150 ...) but on the other hand Qualitative Data have Categorical values for example Monday , tuesday , Gender , Name of Rivers."
   ]
  },
  {
   "cell_type": "markdown",
   "id": "44ee6ac3-cd56-4d17-90af-8be43eb88d0f",
   "metadata": {
    "tags": []
   },
   "source": [
    "# Q4. Categorise the following datasets with respect to quantitative and qualitative data types:\n",
    "\n",
    "# (i)\tGrading in exam: A+, A, B+, B, C+, C, D, E\n",
    "\n",
    "# (ii)\tColour of mangoes: yellow, green, orange, red\n",
    "\n",
    "# (iii)\tHeight data of a class: [178.9, 179, 179.5, 176, 177.2, 178.3, 175.8,...]\n",
    "\n",
    "# (iv)\tNumber of mangoes exported by a farm: [500, 600, 478, 672, …]"
   ]
  },
  {
   "cell_type": "raw",
   "id": "c0843929-f7f4-4b7b-9ebd-67871e4d6a4b",
   "metadata": {},
   "source": [
    "Answer - (i) Grading in exam: A+, A, B+, B, C+, C, D, E = Qualitative Data.\n",
    "(ii) Colour of mangoes: yellow, green, orange, red = Qualitative Data.\n",
    "(iii) Height data of a class: [178.9, 179, 179.5, 176, 177.2, 178.3, 175.8,...] = Quantitative Data.\n",
    "(iv) Number of mangoes exported by a farm: [500, 600, 478, 672, …] = Quantitative Data."
   ]
  },
  {
   "cell_type": "markdown",
   "id": "e8a0ab71-75fc-41c0-bbd5-f3f872da206f",
   "metadata": {},
   "source": [
    "# Q5. Explain the concept of levels of measurement and give an example of a variable for each level."
   ]
  },
  {
   "cell_type": "raw",
   "id": "bd20f35f-784d-41d8-9991-167bf1c144ca",
   "metadata": {},
   "source": [
    "There are 4 different types of concept of levels of measurement-\n",
    "Here it is - \n",
    "1. Nominal Scale Data - categorical data like colour , Gender.\n",
    "2. Ordinal Scale Data - Players Rank in a Race 1st , 2nd , 3rd.\n",
    "3. Interval Scale Data - Different Temperature of Weather \n",
    "4. Ratio Scale Data - Grade of students in a class."
   ]
  },
  {
   "cell_type": "markdown",
   "id": "4ad6f442-ac03-41fc-a630-e92acab9d5ab",
   "metadata": {},
   "source": [
    "#  Q6. Why is it important to understand the level of measurement when analyzing data? Provide an  example to illustrate your answer. "
   ]
  },
  {
   "cell_type": "raw",
   "id": "cbc2441a-8910-4abf-b5e8-39bc887ff3ec",
   "metadata": {},
   "source": [
    "# It is very important to understand the level of measurement beacause of the the distribution of the data. the level of measurement is help us to catogorized the data. \n",
    "# Here is the best example which can satisfy this term in best way - lets assume we have a question is that Name of 10 rivers kis type ka data. ya ise kisme measure kar sakte hai?\n",
    "# so Here the best place jaha par level of measurment ki understanding important hai."
   ]
  },
  {
   "cell_type": "markdown",
   "id": "73b82aa7-0fe9-47d1-b00f-b84bfc7467d7",
   "metadata": {},
   "source": [
    "# Q7. How nominal data type is different from ordinal data type."
   ]
  },
  {
   "cell_type": "raw",
   "id": "637e42cd-4530-4f7c-9fb4-94bfd0ad90ce",
   "metadata": {},
   "source": [
    "In the nominal data type we have some categorical variables like Gender , colours etc.\n",
    "and in the nominal data type Order doesn't metter.  \n",
    "but on the other Hand In the Ordinal data type we have some ranking type data or variable like 1st , 2nd , 3rd or ratings.\n",
    "The ordinal data type Order is important."
   ]
  },
  {
   "cell_type": "markdown",
   "id": "18e318ab-f1c5-4c63-bc32-2a4baed4bf62",
   "metadata": {},
   "source": [
    "# Q8. Which type of plot can be used to display data in terms of range? "
   ]
  },
  {
   "cell_type": "raw",
   "id": "72001aa0-866b-4c42-9b1d-5f9d2b2b8035",
   "metadata": {},
   "source": [
    "range plot can be used to display data in terms of range. A range plot is a type of bar plot it is used to show difference between two values of each categories."
   ]
  },
  {
   "cell_type": "markdown",
   "id": "90456d3a-9152-4d22-9751-6ed9ed7a9337",
   "metadata": {},
   "source": [
    "# Q9. Describe the difference between descriptive and inferential statistics. Give an example of each type of statistics and explain how they are used."
   ]
  },
  {
   "cell_type": "raw",
   "id": "9ca1f7c4-4101-4159-85c2-c9332847b213",
   "metadata": {},
   "source": [
    "Descriptive statistics - Descriptive statistics are used to summerize and describe data. The are used to describe the main features of a data set, mean ,median , standerd daviation. # Descriptive statistics are often used as a first step step in data analysis. They can be used to get a basic understanding of the data and to identify any patterns or trends.\n",
    "\n",
    "Infrential statistics - Infrential statistics are used to make inferces about a populationbased on data from a sample. They are used to test Hypotheses, estimate population parameters, and make predictions about future events. \n",
    "infrential statistics can be used to make inferences about the population based on the data from the sample."
   ]
  },
  {
   "cell_type": "markdown",
   "id": "b8203375-0c46-46d2-8d25-6c80832e86b2",
   "metadata": {},
   "source": [
    "# Q10. What are some common measures of central tendency and variability used in statistics? Explain how each measure can be used to describe a dataset."
   ]
  },
  {
   "cell_type": "raw",
   "id": "10c69725-213b-415a-ba93-1228b28af94f",
   "metadata": {},
   "source": [
    "Here are the common measurement of Central Tendency and Variabliy which is used in statistics.\n",
    "\n",
    "Measures of central tendency -\n",
    "\n",
    "1.Mean - The mean is the average of all the values in a data set. it is calculated by adding up all the values and dividing by the numner of values.\n",
    "\n",
    "2.Median - The median is the middle value in a data set when the values are arranged in increasing or decreasing order.\n",
    "\n",
    "3.Mode - The mode is the most frequent value in a data set.\n",
    "\n",
    "Measures of variability - \n",
    "\n",
    "1. Range : The Range is the difference between the highest and lowest values in a data set.\n",
    "\n",
    "2. Interquartile range(IQR) : The IQR is the difference between the first and third quartile divide the data set into four equal parts.\n",
    "\n",
    "3. Variance : The variance is the average squared deviation of the values from the mean.\n",
    "\n",
    "4. Standard Deviation : The standerd deviation is the square root of the variance. it is a measure of how spread out the data is from the mean."
   ]
  }
 ],
 "metadata": {
  "kernelspec": {
   "display_name": "Python 3 (ipykernel)",
   "language": "python",
   "name": "python3"
  },
  "language_info": {
   "codemirror_mode": {
    "name": "ipython",
    "version": 3
   },
   "file_extension": ".py",
   "mimetype": "text/x-python",
   "name": "python",
   "nbconvert_exporter": "python",
   "pygments_lexer": "ipython3",
   "version": "3.10.8"
  }
 },
 "nbformat": 4,
 "nbformat_minor": 5
}
